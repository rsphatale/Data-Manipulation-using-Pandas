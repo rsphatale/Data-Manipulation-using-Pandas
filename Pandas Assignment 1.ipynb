{
 "cells": [
  {
   "cell_type": "markdown",
   "id": "ac27c5cc",
   "metadata": {},
   "source": [
    "# Assignment 1"
   ]
  },
  {
   "cell_type": "markdown",
   "id": "6793fd17",
   "metadata": {},
   "source": [
    "1. Write a function that takes start and end of a range returns a Pandas series object containing \n",
    "numbers within that range. \n",
    "In case the user does not pass start or end or both they should default to 1 and 10 respectively. \n",
    "eg. \n",
    " range_series() -> Should Return a pandas series from 1 to 10\n",
    " range_series(5) -> Should Return a pandas series from 5 to 10 \n",
    " range_series(5, 10) -> Should Return a pandas series from 5 to 10. "
   ]
  },
  {
   "cell_type": "code",
   "execution_count": 7,
   "id": "8747e2f3",
   "metadata": {},
   "outputs": [
    {
     "data": {
      "text/plain": [
       "0     1\n",
       "1     2\n",
       "2     3\n",
       "3     4\n",
       "4     5\n",
       "5     6\n",
       "6     7\n",
       "7     8\n",
       "8     9\n",
       "9    10\n",
       "dtype: int64"
      ]
     },
     "execution_count": 7,
     "metadata": {},
     "output_type": "execute_result"
    }
   ],
   "source": [
    "#range_series() -> Should Return a pandas series from 1 to 10\n",
    "import pandas as pd\n",
    "def range_series(a=1,b=10) :\n",
    "    return pd.Series(range(a,b+1))\n",
    "range_series()\n"
   ]
  },
  {
   "cell_type": "code",
   "execution_count": 8,
   "id": "5daa51d8",
   "metadata": {},
   "outputs": [
    {
     "data": {
      "text/plain": [
       "0     5\n",
       "1     6\n",
       "2     7\n",
       "3     8\n",
       "4     9\n",
       "5    10\n",
       "dtype: int64"
      ]
     },
     "execution_count": 8,
     "metadata": {},
     "output_type": "execute_result"
    }
   ],
   "source": [
    "#range_series(5) -> Should Return a pandas series from 5 to 10\n",
    "import pandas as pd\n",
    "def range_series(a=1,b=10) :\n",
    "    return pd.Series(range(a,b+1))\n",
    "range_series(5)"
   ]
  },
  {
   "cell_type": "code",
   "execution_count": 9,
   "id": "6d873e28",
   "metadata": {},
   "outputs": [
    {
     "data": {
      "text/plain": [
       "0     5\n",
       "1     6\n",
       "2     7\n",
       "3     8\n",
       "4     9\n",
       "5    10\n",
       "dtype: int64"
      ]
     },
     "execution_count": 9,
     "metadata": {},
     "output_type": "execute_result"
    }
   ],
   "source": [
    "#range_series(5, 10) -> Should Return a pandas series from 5 to 10.\n",
    "import pandas as pd\n",
    "def range_series(a=1,b=10) :\n",
    "    return pd.Series(range(a, b+1))\n",
    "range_series(5,10)"
   ]
  },
  {
   "cell_type": "markdown",
   "id": "b472c7e1",
   "metadata": {},
   "source": [
    "2. Create a function that takes in two lists named keys and values as arguments. \n",
    "Keys would be strings and contain n string values. \n",
    "Values would be a list containing n lists. \n",
    "The methods should return a new pandas dataframe with keys as column names and values as \n",
    "their corresponding values \n",
    "e.g. -> create_dataframe([\"One\", \"Two\"], [[\"X\", \"Y\"], [\"A\", \"B\"]]) -> should return a dataframe \n",
    "One Two \n",
    "0 X A \n",
    "1 Y B"
   ]
  },
  {
   "cell_type": "code",
   "execution_count": 47,
   "id": "08ebaaf5",
   "metadata": {},
   "outputs": [
    {
     "name": "stdout",
     "output_type": "stream",
     "text": [
      "  one two\n",
      "0   X   Y\n",
      "1   A   B\n"
     ]
    }
   ],
   "source": [
    "import pandas as pd\n",
    "def  create_dataframe(key,value) :\n",
    "    return pd.DataFrame(value,columns=key)\n",
    "d = create_dataframe([\"one\",\"two\"],([\"X\",\"Y\"],[\"A\",\"B\"]))\n",
    "print(d)"
   ]
  },
  {
   "cell_type": "markdown",
   "id": "57ea663c",
   "metadata": {},
   "source": [
    "Create a function that concatenates two dataframes. Use previously created function to create \n",
    "two dataframes and pass them as parameters Make sure that the indexes are reset before \n",
    "returning:"
   ]
  },
  {
   "cell_type": "code",
   "execution_count": 48,
   "id": "a90fb284",
   "metadata": {},
   "outputs": [
    {
     "name": "stdout",
     "output_type": "stream",
     "text": [
      "     0\n",
      "0  One\n",
      "1  Two\n",
      "2  one\n",
      "3  two\n"
     ]
    }
   ],
   "source": [
    "def Concatdata(a,b) :\n",
    "    return pd.concat([a,b],ignore_index = True)\n",
    "a = pd.DataFrame([\"One\",\"Two\"],([\"X\",\"Y\"], [\"A\",\"B\"]))\n",
    "b = pd.DataFrame([\"one\",\"two\"],([\"x\",\"y\"], [\"a\",\"b\"]))\n",
    "print(Concatdata(a,b))                        \n",
    "    \n"
   ]
  },
  {
   "cell_type": "markdown",
   "id": "d2a8b315",
   "metadata": {},
   "source": [
    "#Write code to load data from cars.csv into a dataframe and print its details. Details like: 'count', \n",
    "'mean', 'std', 'min', '25%', '50%', '75%', 'max'"
   ]
  },
  {
   "cell_type": "code",
   "execution_count": 44,
   "id": "ce225f32",
   "metadata": {},
   "outputs": [
    {
     "data": {
      "text/html": [
       "<div>\n",
       "<style scoped>\n",
       "    .dataframe tbody tr th:only-of-type {\n",
       "        vertical-align: middle;\n",
       "    }\n",
       "\n",
       "    .dataframe tbody tr th {\n",
       "        vertical-align: top;\n",
       "    }\n",
       "\n",
       "    .dataframe thead th {\n",
       "        text-align: right;\n",
       "    }\n",
       "</style>\n",
       "<table border=\"1\" class=\"dataframe\">\n",
       "  <thead>\n",
       "    <tr style=\"text-align: right;\">\n",
       "      <th></th>\n",
       "      <th>mpg</th>\n",
       "      <th>cyl</th>\n",
       "      <th>disp</th>\n",
       "      <th>hp</th>\n",
       "      <th>drat</th>\n",
       "      <th>wt</th>\n",
       "      <th>qsec</th>\n",
       "      <th>vs</th>\n",
       "      <th>am</th>\n",
       "      <th>gear</th>\n",
       "      <th>carb</th>\n",
       "    </tr>\n",
       "  </thead>\n",
       "  <tbody>\n",
       "    <tr>\n",
       "      <th>count</th>\n",
       "      <td>32.000000</td>\n",
       "      <td>32.000000</td>\n",
       "      <td>32.000000</td>\n",
       "      <td>32.000000</td>\n",
       "      <td>32.000000</td>\n",
       "      <td>32.000000</td>\n",
       "      <td>32.000000</td>\n",
       "      <td>32.000000</td>\n",
       "      <td>32.000000</td>\n",
       "      <td>32.000000</td>\n",
       "      <td>32.0000</td>\n",
       "    </tr>\n",
       "    <tr>\n",
       "      <th>mean</th>\n",
       "      <td>20.090625</td>\n",
       "      <td>6.187500</td>\n",
       "      <td>230.721875</td>\n",
       "      <td>146.687500</td>\n",
       "      <td>3.596563</td>\n",
       "      <td>3.217250</td>\n",
       "      <td>17.848750</td>\n",
       "      <td>0.437500</td>\n",
       "      <td>0.406250</td>\n",
       "      <td>3.687500</td>\n",
       "      <td>2.8125</td>\n",
       "    </tr>\n",
       "    <tr>\n",
       "      <th>std</th>\n",
       "      <td>6.026948</td>\n",
       "      <td>1.785922</td>\n",
       "      <td>123.938694</td>\n",
       "      <td>68.562868</td>\n",
       "      <td>0.534679</td>\n",
       "      <td>0.978457</td>\n",
       "      <td>1.786943</td>\n",
       "      <td>0.504016</td>\n",
       "      <td>0.498991</td>\n",
       "      <td>0.737804</td>\n",
       "      <td>1.6152</td>\n",
       "    </tr>\n",
       "    <tr>\n",
       "      <th>min</th>\n",
       "      <td>10.400000</td>\n",
       "      <td>4.000000</td>\n",
       "      <td>71.100000</td>\n",
       "      <td>52.000000</td>\n",
       "      <td>2.760000</td>\n",
       "      <td>1.513000</td>\n",
       "      <td>14.500000</td>\n",
       "      <td>0.000000</td>\n",
       "      <td>0.000000</td>\n",
       "      <td>3.000000</td>\n",
       "      <td>1.0000</td>\n",
       "    </tr>\n",
       "    <tr>\n",
       "      <th>25%</th>\n",
       "      <td>15.425000</td>\n",
       "      <td>4.000000</td>\n",
       "      <td>120.825000</td>\n",
       "      <td>96.500000</td>\n",
       "      <td>3.080000</td>\n",
       "      <td>2.581250</td>\n",
       "      <td>16.892500</td>\n",
       "      <td>0.000000</td>\n",
       "      <td>0.000000</td>\n",
       "      <td>3.000000</td>\n",
       "      <td>2.0000</td>\n",
       "    </tr>\n",
       "    <tr>\n",
       "      <th>50%</th>\n",
       "      <td>19.200000</td>\n",
       "      <td>6.000000</td>\n",
       "      <td>196.300000</td>\n",
       "      <td>123.000000</td>\n",
       "      <td>3.695000</td>\n",
       "      <td>3.325000</td>\n",
       "      <td>17.710000</td>\n",
       "      <td>0.000000</td>\n",
       "      <td>0.000000</td>\n",
       "      <td>4.000000</td>\n",
       "      <td>2.0000</td>\n",
       "    </tr>\n",
       "    <tr>\n",
       "      <th>75%</th>\n",
       "      <td>22.800000</td>\n",
       "      <td>8.000000</td>\n",
       "      <td>326.000000</td>\n",
       "      <td>180.000000</td>\n",
       "      <td>3.920000</td>\n",
       "      <td>3.610000</td>\n",
       "      <td>18.900000</td>\n",
       "      <td>1.000000</td>\n",
       "      <td>1.000000</td>\n",
       "      <td>4.000000</td>\n",
       "      <td>4.0000</td>\n",
       "    </tr>\n",
       "    <tr>\n",
       "      <th>max</th>\n",
       "      <td>33.900000</td>\n",
       "      <td>8.000000</td>\n",
       "      <td>472.000000</td>\n",
       "      <td>335.000000</td>\n",
       "      <td>4.930000</td>\n",
       "      <td>5.424000</td>\n",
       "      <td>22.900000</td>\n",
       "      <td>1.000000</td>\n",
       "      <td>1.000000</td>\n",
       "      <td>5.000000</td>\n",
       "      <td>8.0000</td>\n",
       "    </tr>\n",
       "  </tbody>\n",
       "</table>\n",
       "</div>"
      ],
      "text/plain": [
       "             mpg        cyl        disp          hp       drat         wt  \\\n",
       "count  32.000000  32.000000   32.000000   32.000000  32.000000  32.000000   \n",
       "mean   20.090625   6.187500  230.721875  146.687500   3.596563   3.217250   \n",
       "std     6.026948   1.785922  123.938694   68.562868   0.534679   0.978457   \n",
       "min    10.400000   4.000000   71.100000   52.000000   2.760000   1.513000   \n",
       "25%    15.425000   4.000000  120.825000   96.500000   3.080000   2.581250   \n",
       "50%    19.200000   6.000000  196.300000  123.000000   3.695000   3.325000   \n",
       "75%    22.800000   8.000000  326.000000  180.000000   3.920000   3.610000   \n",
       "max    33.900000   8.000000  472.000000  335.000000   4.930000   5.424000   \n",
       "\n",
       "            qsec         vs         am       gear     carb  \n",
       "count  32.000000  32.000000  32.000000  32.000000  32.0000  \n",
       "mean   17.848750   0.437500   0.406250   3.687500   2.8125  \n",
       "std     1.786943   0.504016   0.498991   0.737804   1.6152  \n",
       "min    14.500000   0.000000   0.000000   3.000000   1.0000  \n",
       "25%    16.892500   0.000000   0.000000   3.000000   2.0000  \n",
       "50%    17.710000   0.000000   0.000000   4.000000   2.0000  \n",
       "75%    18.900000   1.000000   1.000000   4.000000   4.0000  \n",
       "max    22.900000   1.000000   1.000000   5.000000   8.0000  "
      ]
     },
     "execution_count": 44,
     "metadata": {},
     "output_type": "execute_result"
    }
   ],
   "source": [
    "import pandas as pd\n",
    "cars = pd.read_csv(\"cars.csv\")\n",
    "y = pd.DataFrame(cars)\n",
    "y.describe()"
   ]
  },
  {
   "cell_type": "markdown",
   "id": "3843ebc3",
   "metadata": {},
   "source": [
    " Write a method that will take a column name as argument and return the name of the column \n",
    "with which the \n",
    "given column has the highest correlation. \n",
    "The data to be used is the cars dataset. \n",
    "The returned value should not the column named that was passed as the parameters. \n",
    "E.G: get_max_correlated_column('mpg') -> should return 'drat' "
   ]
  },
  {
   "cell_type": "code",
   "execution_count": 46,
   "id": "ce07a018",
   "metadata": {},
   "outputs": [
    {
     "data": {
      "text/plain": [
       "'drat'"
      ]
     },
     "execution_count": 46,
     "metadata": {},
     "output_type": "execute_result"
    }
   ],
   "source": [
    "mat = y.corr()\n",
    "mat\n",
    "def get_corleate(col) :\n",
    "    mat = y.corr()\n",
    "    return mat[col].sort_values(ascending = False).index[1]\n",
    "get_corleate(\"mpg\")"
   ]
  },
  {
   "cell_type": "code",
   "execution_count": null,
   "id": "2d7b5762",
   "metadata": {},
   "outputs": [],
   "source": []
  },
  {
   "cell_type": "code",
   "execution_count": null,
   "id": "a5c64397",
   "metadata": {},
   "outputs": [],
   "source": []
  },
  {
   "cell_type": "code",
   "execution_count": null,
   "id": "0eb964d0",
   "metadata": {},
   "outputs": [],
   "source": []
  },
  {
   "cell_type": "code",
   "execution_count": null,
   "id": "b08f25bd",
   "metadata": {},
   "outputs": [],
   "source": []
  },
  {
   "cell_type": "code",
   "execution_count": null,
   "id": "6453e79c",
   "metadata": {},
   "outputs": [],
   "source": []
  },
  {
   "cell_type": "code",
   "execution_count": null,
   "id": "10194761",
   "metadata": {},
   "outputs": [],
   "source": []
  },
  {
   "cell_type": "code",
   "execution_count": null,
   "id": "57d44e1a",
   "metadata": {},
   "outputs": [],
   "source": []
  }
 ],
 "metadata": {
  "kernelspec": {
   "display_name": "Python 3 (ipykernel)",
   "language": "python",
   "name": "python3"
  },
  "language_info": {
   "codemirror_mode": {
    "name": "ipython",
    "version": 3
   },
   "file_extension": ".py",
   "mimetype": "text/x-python",
   "name": "python",
   "nbconvert_exporter": "python",
   "pygments_lexer": "ipython3",
   "version": "3.9.7"
  }
 },
 "nbformat": 4,
 "nbformat_minor": 5
}
